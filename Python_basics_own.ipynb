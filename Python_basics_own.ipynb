{
  "nbformat": 4,
  "nbformat_minor": 0,
  "metadata": {
    "colab": {
      "provenance": [],
      "authorship_tag": "ABX9TyOBKHakixxI3ktmO+p55zJ0",
      "include_colab_link": true
    },
    "kernelspec": {
      "name": "python3",
      "display_name": "Python 3"
    },
    "language_info": {
      "name": "python"
    }
  },
  "cells": [
    {
      "cell_type": "markdown",
      "metadata": {
        "id": "view-in-github",
        "colab_type": "text"
      },
      "source": [
        "<a href=\"https://colab.research.google.com/github/santhoshv6/ADI_CV2/blob/main/Python_basics_own.ipynb\" target=\"_parent\"><img src=\"https://colab.research.google.com/assets/colab-badge.svg\" alt=\"Open In Colab\"/></a>"
      ]
    },
    {
      "cell_type": "markdown",
      "source": [
        "# **Baics Start**\n"
      ],
      "metadata": {
        "id": "3rVM0K17pJMp"
      }
    },
    {
      "cell_type": "code",
      "execution_count": null,
      "metadata": {
        "colab": {
          "base_uri": "https://localhost:8080/"
        },
        "id": "zUXsy4wRmOzd",
        "outputId": "27ab216c-bc1a-4fce-a4e0-178b37a2fbb2"
      },
      "outputs": [
        {
          "output_type": "stream",
          "name": "stdout",
          "text": [
            "hello\n"
          ]
        }
      ],
      "source": [
        "print(\"hello\")"
      ]
    },
    {
      "cell_type": "markdown",
      "source": [
        "#**Variables**"
      ],
      "metadata": {
        "id": "zFWv-vCxstJW"
      }
    },
    {
      "cell_type": "markdown",
      "source": [],
      "metadata": {
        "id": "6APZToxMuNHj"
      }
    },
    {
      "cell_type": "code",
      "source": [
        "age=20\n",
        "price=19.95\n",
        "first_name=\"John\"\n",
        "is_online=True\n",
        "print(age)"
      ],
      "metadata": {
        "colab": {
          "base_uri": "https://localhost:8080/"
        },
        "id": "aSjJ-KvEsxI2",
        "outputId": "9a610705-52b3-455c-ac42-de21e320ef1a"
      },
      "execution_count": 10,
      "outputs": [
        {
          "output_type": "stream",
          "name": "stdout",
          "text": [
            "20\n"
          ]
        }
      ]
    },
    {
      "cell_type": "markdown",
      "source": [
        "# **Reciving Inputs**"
      ],
      "metadata": {
        "id": "Use2DZeDuY26"
      }
    },
    {
      "cell_type": "code",
      "source": [
        "name=input(\"what is your name?  \")\n",
        "print(\"hello \"+name)"
      ],
      "metadata": {
        "colab": {
          "base_uri": "https://localhost:8080/"
        },
        "id": "d8dZZ06rs1uT",
        "outputId": "65c6919d-505d-4a59-b0a7-ed4b901afbba"
      },
      "execution_count": 8,
      "outputs": [
        {
          "output_type": "stream",
          "name": "stdout",
          "text": [
            "what is your name?  John\n",
            "hello John\n"
          ]
        }
      ]
    },
    {
      "cell_type": "markdown",
      "source": [
        "# **Type Conversion**"
      ],
      "metadata": {
        "id": "tUfGDGWJuv5R"
      }
    },
    {
      "cell_type": "code",
      "source": [
        "birth_year=input(\"Enter you birth year: \")\n",
        "age=2025-int(birth_year)\n",
        "print(age)\n",
        "\n",
        "# int()\n",
        "# float()\n",
        "# bool()\n",
        "# str()"
      ],
      "metadata": {
        "colab": {
          "base_uri": "https://localhost:8080/"
        },
        "id": "gf65AQWWu7gv",
        "outputId": "c1deb959-8d44-4b80-99e7-dd1ed4cf153d"
      },
      "execution_count": 12,
      "outputs": [
        {
          "output_type": "stream",
          "name": "stdout",
          "text": [
            "Enter you birth year: 1993\n",
            "32\n"
          ]
        }
      ]
    },
    {
      "cell_type": "code",
      "source": [
        "first=input(\"Fist: \")\n",
        "second=input(\"Second: \")\n",
        "sum=float(first)+float(second)\n",
        "print(sum)\n",
        "\n",
        "print(first+second)\n",
        "\n",
        "print(\"Sum: \"+str(sum))"
      ],
      "metadata": {
        "id": "Fvw5ldDSwF4G",
        "outputId": "f5d0a079-94fa-4e34-84b9-aaae7039db79",
        "colab": {
          "base_uri": "https://localhost:8080/"
        }
      },
      "execution_count": 22,
      "outputs": [
        {
          "output_type": "stream",
          "name": "stdout",
          "text": [
            "Fist: 1.1\n",
            "Second: 2\n",
            "3.1\n",
            "1.12\n",
            "Sum: 3.1\n"
          ]
        }
      ]
    },
    {
      "cell_type": "markdown",
      "source": [
        "# **Strings**"
      ],
      "metadata": {
        "id": "J1FhRcBpx0wA"
      }
    },
    {
      "cell_type": "code",
      "source": [
        "course=\"Python refresher\"\n",
        "print(course.upper())\n",
        "print(course)\n",
        "print(course.replace(' ',\"#\"))\n",
        "print(course.find(\"Python\"))\n",
        "print(\"Python\" in course)"
      ],
      "metadata": {
        "id": "T1ivwW6Gx5CD",
        "outputId": "24661025-98fd-4f52-8d92-3234a7d3497b",
        "colab": {
          "base_uri": "https://localhost:8080/"
        }
      },
      "execution_count": 32,
      "outputs": [
        {
          "output_type": "stream",
          "name": "stdout",
          "text": [
            "PYTHON REFRESHER\n",
            "Python refresher\n",
            "Python#refresher\n",
            "0\n",
            "True\n"
          ]
        }
      ]
    },
    {
      "cell_type": "markdown",
      "source": [
        "# **Arithmetic Operators**"
      ],
      "metadata": {
        "id": "TBrNqxVv0C1N"
      }
    },
    {
      "cell_type": "code",
      "source": [],
      "metadata": {
        "id": "C0DoMI4D0LeJ"
      },
      "execution_count": null,
      "outputs": []
    }
  ]
}