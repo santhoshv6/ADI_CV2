{
  "nbformat": 4,
  "nbformat_minor": 0,
  "metadata": {
    "colab": {
      "provenance": [],
      "authorship_tag": "ABX9TyPWD0V6YgoFyz9M1Si+j+rM",
      "include_colab_link": true
    },
    "kernelspec": {
      "name": "python3",
      "display_name": "Python 3"
    },
    "language_info": {
      "name": "python"
    }
  },
  "cells": [
    {
      "cell_type": "markdown",
      "metadata": {
        "id": "view-in-github",
        "colab_type": "text"
      },
      "source": [
        "<a href=\"https://colab.research.google.com/github/santhoshv6/ADI_CV2/blob/main/Python_basics_own.ipynb\" target=\"_parent\"><img src=\"https://colab.research.google.com/assets/colab-badge.svg\" alt=\"Open In Colab\"/></a>"
      ]
    },
    {
      "cell_type": "markdown",
      "source": [
        "# **Baics Start**\n"
      ],
      "metadata": {
        "id": "3rVM0K17pJMp"
      }
    },
    {
      "cell_type": "code",
      "execution_count": null,
      "metadata": {
        "colab": {
          "base_uri": "https://localhost:8080/"
        },
        "id": "zUXsy4wRmOzd",
        "outputId": "27ab216c-bc1a-4fce-a4e0-178b37a2fbb2"
      },
      "outputs": [
        {
          "output_type": "stream",
          "name": "stdout",
          "text": [
            "hello\n"
          ]
        }
      ],
      "source": [
        "print(\"hello\")"
      ]
    },
    {
      "cell_type": "markdown",
      "source": [
        "#**Variables**"
      ],
      "metadata": {
        "id": "zFWv-vCxstJW"
      }
    },
    {
      "cell_type": "markdown",
      "source": [],
      "metadata": {
        "id": "6APZToxMuNHj"
      }
    },
    {
      "cell_type": "code",
      "source": [
        "age=20\n",
        "price=19.95\n",
        "first_name=\"John\"\n",
        "is_online=True\n",
        "print(age)"
      ],
      "metadata": {
        "colab": {
          "base_uri": "https://localhost:8080/"
        },
        "id": "aSjJ-KvEsxI2",
        "outputId": "9a610705-52b3-455c-ac42-de21e320ef1a"
      },
      "execution_count": null,
      "outputs": [
        {
          "output_type": "stream",
          "name": "stdout",
          "text": [
            "20\n"
          ]
        }
      ]
    },
    {
      "cell_type": "markdown",
      "source": [
        "# **Reciving Inputs**"
      ],
      "metadata": {
        "id": "Use2DZeDuY26"
      }
    },
    {
      "cell_type": "code",
      "source": [
        "name=input(\"what is your name?  \")\n",
        "print(\"hello \"+name)"
      ],
      "metadata": {
        "colab": {
          "base_uri": "https://localhost:8080/"
        },
        "id": "d8dZZ06rs1uT",
        "outputId": "65c6919d-505d-4a59-b0a7-ed4b901afbba"
      },
      "execution_count": null,
      "outputs": [
        {
          "output_type": "stream",
          "name": "stdout",
          "text": [
            "what is your name?  John\n",
            "hello John\n"
          ]
        }
      ]
    },
    {
      "cell_type": "markdown",
      "source": [
        "# **Type Conversion**"
      ],
      "metadata": {
        "id": "tUfGDGWJuv5R"
      }
    },
    {
      "cell_type": "code",
      "source": [
        "birth_year=input(\"Enter you birth year: \")\n",
        "age=2025-int(birth_year)\n",
        "print(age)\n",
        "\n",
        "# int()\n",
        "# float()\n",
        "# bool()\n",
        "# str()"
      ],
      "metadata": {
        "colab": {
          "base_uri": "https://localhost:8080/"
        },
        "id": "gf65AQWWu7gv",
        "outputId": "c1deb959-8d44-4b80-99e7-dd1ed4cf153d"
      },
      "execution_count": null,
      "outputs": [
        {
          "output_type": "stream",
          "name": "stdout",
          "text": [
            "Enter you birth year: 1993\n",
            "32\n"
          ]
        }
      ]
    },
    {
      "cell_type": "code",
      "source": [
        "first=input(\"Fist: \")\n",
        "second=input(\"Second: \")\n",
        "sum=float(first)+float(second)\n",
        "print(sum)\n",
        "\n",
        "print(first+second)\n",
        "\n",
        "print(\"Sum: \"+str(sum))"
      ],
      "metadata": {
        "colab": {
          "base_uri": "https://localhost:8080/"
        },
        "id": "Fvw5ldDSwF4G",
        "outputId": "f5d0a079-94fa-4e34-84b9-aaae7039db79"
      },
      "execution_count": null,
      "outputs": [
        {
          "output_type": "stream",
          "name": "stdout",
          "text": [
            "Fist: 1.1\n",
            "Second: 2\n",
            "3.1\n",
            "1.12\n",
            "Sum: 3.1\n"
          ]
        }
      ]
    },
    {
      "cell_type": "markdown",
      "source": [
        "# **Strings**"
      ],
      "metadata": {
        "id": "J1FhRcBpx0wA"
      }
    },
    {
      "cell_type": "code",
      "source": [
        "course=\"Python refresher\"\n",
        "print(course.upper())\n",
        "print(course)\n",
        "print(course.replace(' ',\"#\"))\n",
        "print(course.find(\"Python\"))\n",
        "print(\"Python\" in course)"
      ],
      "metadata": {
        "colab": {
          "base_uri": "https://localhost:8080/"
        },
        "id": "T1ivwW6Gx5CD",
        "outputId": "24661025-98fd-4f52-8d92-3234a7d3497b"
      },
      "execution_count": null,
      "outputs": [
        {
          "output_type": "stream",
          "name": "stdout",
          "text": [
            "PYTHON REFRESHER\n",
            "Python refresher\n",
            "Python#refresher\n",
            "0\n",
            "True\n"
          ]
        }
      ]
    },
    {
      "cell_type": "markdown",
      "source": [
        "# **Arithmetic Operators**"
      ],
      "metadata": {
        "id": "TBrNqxVv0C1N"
      }
    },
    {
      "cell_type": "code",
      "source": [
        "print(10+3)\n",
        "print(10-3)\n",
        "print(10*3)\n",
        "print(10/3)\n",
        "print(10//3)\n",
        "print(10%3)\n",
        "print(10**3)"
      ],
      "metadata": {
        "colab": {
          "base_uri": "https://localhost:8080/"
        },
        "id": "C0DoMI4D0LeJ",
        "outputId": "704d5ce6-5f3e-407c-c640-07695619de3d"
      },
      "execution_count": null,
      "outputs": [
        {
          "output_type": "stream",
          "name": "stdout",
          "text": [
            "13\n",
            "7\n",
            "30\n",
            "3.3333333333333335\n",
            "3\n",
            "1\n",
            "1000\n"
          ]
        }
      ]
    },
    {
      "cell_type": "code",
      "source": [
        "x=10\n",
        "x=x+3\n",
        "print(x)\n",
        "\n",
        "x+=2 # augmented assigmnet operator\n",
        "print(x)"
      ],
      "metadata": {
        "id": "vIpAChjg0vuw",
        "outputId": "404f17cb-9033-4527-8892-4257d5b83553",
        "colab": {
          "base_uri": "https://localhost:8080/"
        }
      },
      "execution_count": null,
      "outputs": [
        {
          "output_type": "stream",
          "name": "stdout",
          "text": [
            "13\n",
            "15\n"
          ]
        }
      ]
    },
    {
      "cell_type": "markdown",
      "source": [
        "#**Operator Precedence** - BODMAS"
      ],
      "metadata": {
        "id": "XOgrRAdd1FII"
      }
    },
    {
      "cell_type": "code",
      "source": [
        "print(10+3*2)\n",
        "print((10+3)*2)"
      ],
      "metadata": {
        "id": "KSUxwXC51NBn",
        "outputId": "eb3c35a9-8209-408f-dd46-08b85ef97d81",
        "colab": {
          "base_uri": "https://localhost:8080/"
        }
      },
      "execution_count": null,
      "outputs": [
        {
          "output_type": "stream",
          "name": "stdout",
          "text": [
            "16\n",
            "26\n"
          ]
        }
      ]
    },
    {
      "cell_type": "markdown",
      "source": [
        "# **Comparison Operators**"
      ],
      "metadata": {
        "id": "gbhGhEoO1w62"
      }
    },
    {
      "cell_type": "code",
      "source": [
        "x=3>2\n",
        "print(x)\n",
        "\n",
        "# >, <, >=, <=, ==, !="
      ],
      "metadata": {
        "id": "_0ZQ373K2o0u",
        "outputId": "b5734696-3688-4da9-b2a1-c285e789c44b",
        "colab": {
          "base_uri": "https://localhost:8080/"
        }
      },
      "execution_count": null,
      "outputs": [
        {
          "output_type": "stream",
          "name": "stdout",
          "text": [
            "True\n"
          ]
        }
      ]
    },
    {
      "cell_type": "markdown",
      "source": [
        "#**Logical Operators**"
      ],
      "metadata": {
        "id": "L2-1Mb682679"
      }
    },
    {
      "cell_type": "code",
      "source": [
        "price=25\n",
        "print(price>10 and price<30)\n",
        "print(not price >10)\n",
        "\n",
        "# and, or, not"
      ],
      "metadata": {
        "id": "koUqpK703CkO",
        "outputId": "20a21c66-8b75-443e-87bf-94707dcf05d5",
        "colab": {
          "base_uri": "https://localhost:8080/"
        }
      },
      "execution_count": null,
      "outputs": [
        {
          "output_type": "stream",
          "name": "stdout",
          "text": [
            "True\n",
            "False\n"
          ]
        }
      ]
    },
    {
      "cell_type": "markdown",
      "source": [
        "# **If statements**"
      ],
      "metadata": {
        "id": "_O0hZYez3ndd"
      }
    },
    {
      "cell_type": "code",
      "source": [
        "temp=13\n",
        "\n",
        "if temp>30:\n",
        "  print(\"hot day\")\n",
        "elif temp>20:\n",
        "  print(\"nice day\")\n",
        "else:\n",
        "  print(\"cold day\")\n",
        "print(\"done\")\n",
        "  # else\n",
        "  # print(\"cold day\")"
      ],
      "metadata": {
        "id": "VTYLDGg23sQz",
        "outputId": "6532c243-315d-4bb6-dd80-e5889fc3fb34",
        "colab": {
          "base_uri": "https://localhost:8080/"
        }
      },
      "execution_count": null,
      "outputs": [
        {
          "output_type": "stream",
          "name": "stdout",
          "text": [
            "cold day\n",
            "done\n"
          ]
        }
      ]
    },
    {
      "cell_type": "markdown",
      "source": [
        "# **Exercise**"
      ],
      "metadata": {
        "id": "H9ZrPBNy4qVP"
      }
    },
    {
      "cell_type": "code",
      "source": [
        "wgt=float(input(\"Weight: \"))\n",
        "wgt_met=input(\"(K)g or (L)bs: \")\n",
        "\n",
        "if  \"l\" in wgt_met.lower():\n",
        "  print(\"Weight in Kg: \" + str(wgt * .45))\n",
        "elif \"k\" in wgt_met.lower():\n",
        "  print(\"Weight in LBS: \" + str(wgt / .45))\n",
        "\n"
      ],
      "metadata": {
        "id": "m5CubvxB41DZ",
        "colab": {
          "base_uri": "https://localhost:8080/"
        },
        "outputId": "c6755015-f4c7-4553-c6c5-41f829c01e04"
      },
      "execution_count": 70,
      "outputs": [
        {
          "output_type": "stream",
          "name": "stdout",
          "text": [
            "Weight: 10\n",
            "(K)g or (L)bs: k\n",
            "Weight in LBS: 22.22222222222222\n"
          ]
        }
      ]
    },
    {
      "cell_type": "markdown",
      "source": [
        "# **While Loop**"
      ],
      "metadata": {
        "id": "wjpBLAXr7rSH"
      }
    },
    {
      "cell_type": "code",
      "source": [
        "i=1\n",
        "while i<=1_0:\n",
        "  print(i * \"*\")\n",
        "  i+=1"
      ],
      "metadata": {
        "id": "Cy1J32Yj-Xla",
        "outputId": "94d514e4-8361-46cf-f022-a36dde8b261a",
        "colab": {
          "base_uri": "https://localhost:8080/"
        }
      },
      "execution_count": 77,
      "outputs": [
        {
          "output_type": "stream",
          "name": "stdout",
          "text": [
            "*\n",
            "**\n",
            "***\n",
            "****\n",
            "*****\n",
            "******\n",
            "*******\n",
            "********\n",
            "*********\n",
            "**********\n"
          ]
        }
      ]
    },
    {
      "cell_type": "code",
      "source": [
        "#1_0+3"
      ],
      "metadata": {
        "id": "n0BhRIPm-9kT",
        "outputId": "cb45d79b-781f-4f47-806f-312e6c673bfc",
        "colab": {
          "base_uri": "https://localhost:8080/"
        }
      },
      "execution_count": 74,
      "outputs": [
        {
          "output_type": "execute_result",
          "data": {
            "text/plain": [
              "13"
            ]
          },
          "metadata": {},
          "execution_count": 74
        }
      ]
    },
    {
      "cell_type": "markdown",
      "source": [
        "# **Lists**"
      ],
      "metadata": {
        "id": "bMlvzRn__T5E"
      }
    },
    {
      "cell_type": "code",
      "source": [
        "names=[\"John\",\"Bob\",\"Mary\"]\n",
        "print(names)\n",
        "print(names[0])\n",
        "print(names[-1])\n",
        "print(names[-2])\n",
        "\n",
        "names[0]=\"Jon\"\n",
        "print(names)\n",
        "print(names[0:2])"
      ],
      "metadata": {
        "id": "23lW_f1j_an3",
        "outputId": "df246738-9f6f-4e9d-c0a0-e5c1b67e2ff9",
        "colab": {
          "base_uri": "https://localhost:8080/"
        }
      },
      "execution_count": 87,
      "outputs": [
        {
          "output_type": "stream",
          "name": "stdout",
          "text": [
            "['John', 'Bob', 'Mary']\n",
            "John\n",
            "Mary\n",
            "Bob\n",
            "['Jon', 'Bob', 'Mary']\n",
            "['Jon', 'Bob']\n"
          ]
        }
      ]
    },
    {
      "cell_type": "markdown",
      "source": [
        "#**List Methods**"
      ],
      "metadata": {
        "id": "kDbAHLSEARfy"
      }
    },
    {
      "cell_type": "code",
      "source": [
        "from ctypes import POINTER\n",
        "\"a\".capitalize()\n",
        "num=[1,2,3]\n",
        "num.append(4)\n",
        "print(num)\n",
        "num.insert(1,-1)\n",
        "print(num)\n",
        "num.remove(3)\n",
        "print(num)\n",
        "num.clear()\n",
        "print(num)\n",
        "\n",
        "num=[1,2,3]\n",
        "print(1 in num)\n",
        "print(len(num))"
      ],
      "metadata": {
        "id": "BvNJAxGoAV60",
        "outputId": "896f52e8-12f6-4f91-8621-97306728af20",
        "colab": {
          "base_uri": "https://localhost:8080/"
        }
      },
      "execution_count": 97,
      "outputs": [
        {
          "output_type": "stream",
          "name": "stdout",
          "text": [
            "[1, 2, 3, 4]\n",
            "[1, -1, 2, 3, 4]\n",
            "[1, -1, 2, 4]\n",
            "[]\n",
            "True\n",
            "3\n"
          ]
        }
      ]
    },
    {
      "cell_type": "markdown",
      "source": [
        "# **For loop**"
      ],
      "metadata": {
        "id": "yWpwahvwBtjc"
      }
    },
    {
      "cell_type": "code",
      "source": [
        "num=[1,2,3,4,5]\n",
        "print(num)\n",
        "\n",
        "for i in num:\n",
        "  print(i)\n",
        "\n",
        "i=0\n",
        "while i<len(num):\n",
        "  print(num[i])\n",
        "  i+=1"
      ],
      "metadata": {
        "id": "-V6d_QDxBw8h",
        "outputId": "134ff505-f52d-4853-e1c9-7d18dab6c331",
        "colab": {
          "base_uri": "https://localhost:8080/"
        }
      },
      "execution_count": 100,
      "outputs": [
        {
          "output_type": "stream",
          "name": "stdout",
          "text": [
            "[1, 2, 3, 4, 5]\n",
            "1\n",
            "2\n",
            "3\n",
            "4\n",
            "5\n",
            "1\n",
            "2\n",
            "3\n",
            "4\n",
            "5\n"
          ]
        }
      ]
    },
    {
      "cell_type": "markdown",
      "source": [
        "# **Range Function**"
      ],
      "metadata": {
        "id": "DJapq5U8CRq0"
      }
    },
    {
      "cell_type": "code",
      "source": [
        "num=range(5)\n",
        "print(num)\n",
        "\n",
        "for i in num:\n",
        "  print(i)\n",
        "\n",
        "num=range(5,10)\n",
        "print(num)\n",
        "\n",
        "for i in range(5,10):\n",
        "  print(i)\n",
        "\n",
        "num=range(5,10,2)\n",
        "print(num)\n",
        "\n",
        "for i in range(5,10,2):\n",
        "  print(i)"
      ],
      "metadata": {
        "id": "-fbw6uKhCYzt",
        "outputId": "0378c9e2-3bcc-4823-f24a-ee05e0f2dba7",
        "colab": {
          "base_uri": "https://localhost:8080/"
        }
      },
      "execution_count": 107,
      "outputs": [
        {
          "output_type": "stream",
          "name": "stdout",
          "text": [
            "range(0, 5)\n",
            "0\n",
            "1\n",
            "2\n",
            "3\n",
            "4\n",
            "range(5, 10)\n",
            "5\n",
            "6\n",
            "7\n",
            "8\n",
            "9\n",
            "range(5, 10, 2)\n",
            "5\n",
            "7\n",
            "9\n"
          ]
        }
      ]
    },
    {
      "cell_type": "markdown",
      "source": [
        "# **Tuples**"
      ],
      "metadata": {
        "id": "wVunHbePDIrB"
      }
    },
    {
      "cell_type": "code",
      "source": [
        "num=(1,2,3,4,5)\n",
        "print(num.count)"
      ],
      "metadata": {
        "id": "cTQnmcRZDNAE",
        "outputId": "afcb249e-ce12-4b5e-c181-4db9a13955fc",
        "colab": {
          "base_uri": "https://localhost:8080/"
        }
      },
      "execution_count": 111,
      "outputs": [
        {
          "output_type": "stream",
          "name": "stdout",
          "text": [
            "<built-in method count of tuple object at 0x7e4b71694130>\n"
          ]
        }
      ]
    }
  ]
}