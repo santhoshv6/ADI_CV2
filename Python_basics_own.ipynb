{
  "nbformat": 4,
  "nbformat_minor": 0,
  "metadata": {
    "colab": {
      "provenance": [],
      "authorship_tag": "ABX9TyNEw5m/mLIkHO1u4QjLz8aC",
      "include_colab_link": true
    },
    "kernelspec": {
      "name": "python3",
      "display_name": "Python 3"
    },
    "language_info": {
      "name": "python"
    }
  },
  "cells": [
    {
      "cell_type": "markdown",
      "metadata": {
        "id": "view-in-github",
        "colab_type": "text"
      },
      "source": [
        "<a href=\"https://colab.research.google.com/github/santhoshv6/ADI_CV2/blob/main/Python_basics_own.ipynb\" target=\"_parent\"><img src=\"https://colab.research.google.com/assets/colab-badge.svg\" alt=\"Open In Colab\"/></a>"
      ]
    },
    {
      "cell_type": "markdown",
      "source": [
        "# **Baics Start**\n"
      ],
      "metadata": {
        "id": "3rVM0K17pJMp"
      }
    },
    {
      "cell_type": "code",
      "execution_count": null,
      "metadata": {
        "colab": {
          "base_uri": "https://localhost:8080/"
        },
        "id": "zUXsy4wRmOzd",
        "outputId": "27ab216c-bc1a-4fce-a4e0-178b37a2fbb2"
      },
      "outputs": [
        {
          "output_type": "stream",
          "name": "stdout",
          "text": [
            "hello\n"
          ]
        }
      ],
      "source": [
        "print(\"hello\")"
      ]
    },
    {
      "cell_type": "markdown",
      "source": [
        "#**Variables**"
      ],
      "metadata": {
        "id": "zFWv-vCxstJW"
      }
    },
    {
      "cell_type": "markdown",
      "source": [],
      "metadata": {
        "id": "6APZToxMuNHj"
      }
    },
    {
      "cell_type": "code",
      "source": [
        "age=20\n",
        "price=19.95\n",
        "first_name=\"John\"\n",
        "is_online=True\n",
        "print(age)"
      ],
      "metadata": {
        "id": "aSjJ-KvEsxI2",
        "outputId": "9a610705-52b3-455c-ac42-de21e320ef1a",
        "colab": {
          "base_uri": "https://localhost:8080/"
        }
      },
      "execution_count": 10,
      "outputs": [
        {
          "output_type": "stream",
          "name": "stdout",
          "text": [
            "20\n"
          ]
        }
      ]
    },
    {
      "cell_type": "markdown",
      "source": [],
      "metadata": {
        "id": "Use2DZeDuY26"
      }
    },
    {
      "cell_type": "code",
      "source": [
        "name=input(\"what is your name?  \")\n",
        "print(\"hello \"+name)"
      ],
      "metadata": {
        "id": "d8dZZ06rs1uT",
        "outputId": "65c6919d-505d-4a59-b0a7-ed4b901afbba",
        "colab": {
          "base_uri": "https://localhost:8080/"
        }
      },
      "execution_count": 8,
      "outputs": [
        {
          "output_type": "stream",
          "name": "stdout",
          "text": [
            "what is your name?  John\n",
            "hello John\n"
          ]
        }
      ]
    }
  ]
}