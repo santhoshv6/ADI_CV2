{
  "nbformat": 4,
  "nbformat_minor": 0,
  "metadata": {
    "colab": {
      "provenance": [],
      "authorship_tag": "ABX9TyMAPPbkyw9k1SNfZQg7MBfq",
      "include_colab_link": true
    },
    "kernelspec": {
      "name": "python3",
      "display_name": "Python 3"
    },
    "language_info": {
      "name": "python"
    }
  },
  "cells": [
    {
      "cell_type": "markdown",
      "metadata": {
        "id": "view-in-github",
        "colab_type": "text"
      },
      "source": [
        "<a href=\"https://colab.research.google.com/github/santhoshv6/ADI_CV2/blob/main/Python_basics_own.ipynb\" target=\"_parent\"><img src=\"https://colab.research.google.com/assets/colab-badge.svg\" alt=\"Open In Colab\"/></a>"
      ]
    },
    {
      "cell_type": "markdown",
      "source": [
        "# **Baics Start**\n"
      ],
      "metadata": {
        "id": "3rVM0K17pJMp"
      }
    },
    {
      "cell_type": "code",
      "execution_count": null,
      "metadata": {
        "colab": {
          "base_uri": "https://localhost:8080/"
        },
        "id": "zUXsy4wRmOzd",
        "outputId": "27ab216c-bc1a-4fce-a4e0-178b37a2fbb2"
      },
      "outputs": [
        {
          "output_type": "stream",
          "name": "stdout",
          "text": [
            "hello\n"
          ]
        }
      ],
      "source": [
        "print(\"hello\")"
      ]
    },
    {
      "cell_type": "markdown",
      "source": [
        "#**Variables**"
      ],
      "metadata": {
        "id": "zFWv-vCxstJW"
      }
    },
    {
      "cell_type": "markdown",
      "source": [],
      "metadata": {
        "id": "6APZToxMuNHj"
      }
    },
    {
      "cell_type": "code",
      "source": [
        "age=20\n",
        "price=19.95\n",
        "first_name=\"John\"\n",
        "is_online=True\n",
        "print(age)"
      ],
      "metadata": {
        "colab": {
          "base_uri": "https://localhost:8080/"
        },
        "id": "aSjJ-KvEsxI2",
        "outputId": "9a610705-52b3-455c-ac42-de21e320ef1a"
      },
      "execution_count": null,
      "outputs": [
        {
          "output_type": "stream",
          "name": "stdout",
          "text": [
            "20\n"
          ]
        }
      ]
    },
    {
      "cell_type": "markdown",
      "source": [
        "# **Reciving Inputs**"
      ],
      "metadata": {
        "id": "Use2DZeDuY26"
      }
    },
    {
      "cell_type": "code",
      "source": [
        "name=input(\"what is your name?  \")\n",
        "print(\"hello \"+name)"
      ],
      "metadata": {
        "colab": {
          "base_uri": "https://localhost:8080/"
        },
        "id": "d8dZZ06rs1uT",
        "outputId": "65c6919d-505d-4a59-b0a7-ed4b901afbba"
      },
      "execution_count": null,
      "outputs": [
        {
          "output_type": "stream",
          "name": "stdout",
          "text": [
            "what is your name?  John\n",
            "hello John\n"
          ]
        }
      ]
    },
    {
      "cell_type": "markdown",
      "source": [
        "# **Type Conversion**"
      ],
      "metadata": {
        "id": "tUfGDGWJuv5R"
      }
    },
    {
      "cell_type": "code",
      "source": [
        "birth_year=input(\"Enter you birth year: \")\n",
        "age=2025-int(birth_year)\n",
        "print(age)\n",
        "\n",
        "# int()\n",
        "# float()\n",
        "# bool()\n",
        "# str()"
      ],
      "metadata": {
        "colab": {
          "base_uri": "https://localhost:8080/"
        },
        "id": "gf65AQWWu7gv",
        "outputId": "c1deb959-8d44-4b80-99e7-dd1ed4cf153d"
      },
      "execution_count": null,
      "outputs": [
        {
          "output_type": "stream",
          "name": "stdout",
          "text": [
            "Enter you birth year: 1993\n",
            "32\n"
          ]
        }
      ]
    },
    {
      "cell_type": "code",
      "source": [
        "first=input(\"Fist: \")\n",
        "second=input(\"Second: \")\n",
        "sum=float(first)+float(second)\n",
        "print(sum)\n",
        "\n",
        "print(first+second)\n",
        "\n",
        "print(\"Sum: \"+str(sum))"
      ],
      "metadata": {
        "colab": {
          "base_uri": "https://localhost:8080/"
        },
        "id": "Fvw5ldDSwF4G",
        "outputId": "f5d0a079-94fa-4e34-84b9-aaae7039db79"
      },
      "execution_count": null,
      "outputs": [
        {
          "output_type": "stream",
          "name": "stdout",
          "text": [
            "Fist: 1.1\n",
            "Second: 2\n",
            "3.1\n",
            "1.12\n",
            "Sum: 3.1\n"
          ]
        }
      ]
    },
    {
      "cell_type": "markdown",
      "source": [
        "# **Strings**"
      ],
      "metadata": {
        "id": "J1FhRcBpx0wA"
      }
    },
    {
      "cell_type": "code",
      "source": [
        "course=\"Python refresher\"\n",
        "print(course.upper())\n",
        "print(course)\n",
        "print(course.replace(' ',\"#\"))\n",
        "print(course.find(\"Python\"))\n",
        "print(\"Python\" in course)"
      ],
      "metadata": {
        "colab": {
          "base_uri": "https://localhost:8080/"
        },
        "id": "T1ivwW6Gx5CD",
        "outputId": "24661025-98fd-4f52-8d92-3234a7d3497b"
      },
      "execution_count": null,
      "outputs": [
        {
          "output_type": "stream",
          "name": "stdout",
          "text": [
            "PYTHON REFRESHER\n",
            "Python refresher\n",
            "Python#refresher\n",
            "0\n",
            "True\n"
          ]
        }
      ]
    },
    {
      "cell_type": "markdown",
      "source": [
        "# **Arithmetic Operators**"
      ],
      "metadata": {
        "id": "TBrNqxVv0C1N"
      }
    },
    {
      "cell_type": "code",
      "source": [
        "print(10+3)\n",
        "print(10-3)\n",
        "print(10*3)\n",
        "print(10/3)\n",
        "print(10//3)\n",
        "print(10%3)\n",
        "print(10**3)"
      ],
      "metadata": {
        "colab": {
          "base_uri": "https://localhost:8080/"
        },
        "id": "C0DoMI4D0LeJ",
        "outputId": "704d5ce6-5f3e-407c-c640-07695619de3d"
      },
      "execution_count": null,
      "outputs": [
        {
          "output_type": "stream",
          "name": "stdout",
          "text": [
            "13\n",
            "7\n",
            "30\n",
            "3.3333333333333335\n",
            "3\n",
            "1\n",
            "1000\n"
          ]
        }
      ]
    },
    {
      "cell_type": "code",
      "source": [
        "x=10\n",
        "x=x+3\n",
        "print(x)\n",
        "\n",
        "x+=2 # augmented assigmnet operator\n",
        "print(x)"
      ],
      "metadata": {
        "id": "vIpAChjg0vuw",
        "outputId": "404f17cb-9033-4527-8892-4257d5b83553",
        "colab": {
          "base_uri": "https://localhost:8080/"
        }
      },
      "execution_count": null,
      "outputs": [
        {
          "output_type": "stream",
          "name": "stdout",
          "text": [
            "13\n",
            "15\n"
          ]
        }
      ]
    },
    {
      "cell_type": "markdown",
      "source": [
        "#**Operator Precedence** - BODMAS"
      ],
      "metadata": {
        "id": "XOgrRAdd1FII"
      }
    },
    {
      "cell_type": "code",
      "source": [
        "print(10+3*2)\n",
        "print((10+3)*2)"
      ],
      "metadata": {
        "id": "KSUxwXC51NBn",
        "outputId": "eb3c35a9-8209-408f-dd46-08b85ef97d81",
        "colab": {
          "base_uri": "https://localhost:8080/"
        }
      },
      "execution_count": null,
      "outputs": [
        {
          "output_type": "stream",
          "name": "stdout",
          "text": [
            "16\n",
            "26\n"
          ]
        }
      ]
    },
    {
      "cell_type": "markdown",
      "source": [
        "# **Comparison Operators**"
      ],
      "metadata": {
        "id": "gbhGhEoO1w62"
      }
    },
    {
      "cell_type": "code",
      "source": [
        "x=3>2\n",
        "print(x)\n",
        "\n",
        "# >, <, >=, <=, ==, !="
      ],
      "metadata": {
        "id": "_0ZQ373K2o0u",
        "outputId": "b5734696-3688-4da9-b2a1-c285e789c44b",
        "colab": {
          "base_uri": "https://localhost:8080/"
        }
      },
      "execution_count": null,
      "outputs": [
        {
          "output_type": "stream",
          "name": "stdout",
          "text": [
            "True\n"
          ]
        }
      ]
    },
    {
      "cell_type": "markdown",
      "source": [
        "#**Logical Operators**"
      ],
      "metadata": {
        "id": "L2-1Mb682679"
      }
    },
    {
      "cell_type": "code",
      "source": [
        "price=25\n",
        "print(price>10 and price<30)\n",
        "print(not price >10)\n",
        "\n",
        "# and, or, not"
      ],
      "metadata": {
        "id": "koUqpK703CkO",
        "outputId": "20a21c66-8b75-443e-87bf-94707dcf05d5",
        "colab": {
          "base_uri": "https://localhost:8080/"
        }
      },
      "execution_count": null,
      "outputs": [
        {
          "output_type": "stream",
          "name": "stdout",
          "text": [
            "True\n",
            "False\n"
          ]
        }
      ]
    },
    {
      "cell_type": "markdown",
      "source": [
        "# **If statements**"
      ],
      "metadata": {
        "id": "_O0hZYez3ndd"
      }
    },
    {
      "cell_type": "code",
      "source": [
        "temp=13\n",
        "\n",
        "if temp>30:\n",
        "  print(\"hot day\")\n",
        "elif temp>20:\n",
        "  print(\"nice day\")\n",
        "else:\n",
        "  print(\"cold day\")\n",
        "print(\"done\")\n",
        "  # else\n",
        "  # print(\"cold day\")"
      ],
      "metadata": {
        "id": "VTYLDGg23sQz",
        "outputId": "6532c243-315d-4bb6-dd80-e5889fc3fb34",
        "colab": {
          "base_uri": "https://localhost:8080/"
        }
      },
      "execution_count": null,
      "outputs": [
        {
          "output_type": "stream",
          "name": "stdout",
          "text": [
            "cold day\n",
            "done\n"
          ]
        }
      ]
    },
    {
      "cell_type": "markdown",
      "source": [
        "# **Exercise**"
      ],
      "metadata": {
        "id": "H9ZrPBNy4qVP"
      }
    },
    {
      "cell_type": "code",
      "source": [
        "wgt=float(input(\"Weight: \"))\n",
        "wgt_met=input(\"(K)g or (L)bs: \")\n",
        "\n",
        "if  \"l\" in wgt_met.lower():\n",
        "  print(\"Weight in Kg: \" + str(wgt / 2.2046))\n",
        "elif \"k\" in wgt_met.lower():\n",
        "  print(\"Weight in LBS: \" + str(wgt * 2.2046))\n",
        "\n"
      ],
      "metadata": {
        "id": "m5CubvxB41DZ",
        "outputId": "68fe4183-9e3f-4a63-cc5e-915dd554441f",
        "colab": {
          "base_uri": "https://localhost:8080/"
        }
      },
      "execution_count": 67,
      "outputs": [
        {
          "output_type": "stream",
          "name": "stdout",
          "text": [
            "Weight: 10\n",
            "(K)g or (L)bs: l\n",
            "Weight in Kg: 4.535970244035199\n"
          ]
        }
      ]
    },
    {
      "cell_type": "code",
      "source": [
        "test=\"kg\"\n",
        "print(test.lower())"
      ],
      "metadata": {
        "id": "wjpBLAXr7rSH",
        "outputId": "ddc73ef5-c2c5-49a8-f424-258f2d981df0",
        "colab": {
          "base_uri": "https://localhost:8080/"
        }
      },
      "execution_count": 62,
      "outputs": [
        {
          "output_type": "stream",
          "name": "stdout",
          "text": [
            "kg\n"
          ]
        }
      ]
    }
  ]
}